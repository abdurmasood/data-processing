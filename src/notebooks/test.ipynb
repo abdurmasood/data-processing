{
 "cells": [
  {
   "cell_type": "code",
   "execution_count": 1,
   "metadata": {},
   "outputs": [
    {
     "name": "stdout",
     "output_type": "stream",
     "text": [
      "Requirement already satisfied: pandas in c:\\local\\technology\\coding\\projects\\carbon underwriting\\insurance-data-processing\\venv\\lib\\site-packages (from -r ./../../requirements.txt (line 1)) (1.4.4)\n",
      "Requirement already satisfied: openpyxl in c:\\local\\technology\\coding\\projects\\carbon underwriting\\insurance-data-processing\\venv\\lib\\site-packages (from -r ./../../requirements.txt (line 2)) (3.0.10)\n",
      "Requirement already satisfied: pyyaml in c:\\local\\technology\\coding\\projects\\carbon underwriting\\insurance-data-processing\\venv\\lib\\site-packages (from -r ./../../requirements.txt (line 3)) (6.0)\n",
      "Requirement already satisfied: numpy>=1.18.5 in c:\\local\\technology\\coding\\projects\\carbon underwriting\\insurance-data-processing\\venv\\lib\\site-packages (from pandas->-r ./../../requirements.txt (line 1)) (1.23.3)\n",
      "Requirement already satisfied: python-dateutil>=2.8.1 in c:\\local\\technology\\coding\\projects\\carbon underwriting\\insurance-data-processing\\venv\\lib\\site-packages (from pandas->-r ./../../requirements.txt (line 1)) (2.8.2)\n",
      "Requirement already satisfied: pytz>=2020.1 in c:\\local\\technology\\coding\\projects\\carbon underwriting\\insurance-data-processing\\venv\\lib\\site-packages (from pandas->-r ./../../requirements.txt (line 1)) (2022.2.1)\n",
      "Requirement already satisfied: et-xmlfile in c:\\local\\technology\\coding\\projects\\carbon underwriting\\insurance-data-processing\\venv\\lib\\site-packages (from openpyxl->-r ./../../requirements.txt (line 2)) (1.1.0)\n",
      "Requirement already satisfied: six>=1.5 in c:\\local\\technology\\coding\\projects\\carbon underwriting\\insurance-data-processing\\venv\\lib\\site-packages (from python-dateutil>=2.8.1->pandas->-r ./../../requirements.txt (line 1)) (1.16.0)\n"
     ]
    },
    {
     "name": "stderr",
     "output_type": "stream",
     "text": [
      "WARNING: You are using pip version 21.3.1; however, version 22.2.2 is available.\n",
      "You should consider upgrading via the 'C:\\local\\Technology\\Coding\\Projects\\Carbon Underwriting\\insurance-data-processing\\venv\\Scripts\\python.exe -m pip install --upgrade pip' command.\n"
     ]
    }
   ],
   "source": [
    "! pip3 install -r ./../../requirements.txt"
   ]
  },
  {
   "cell_type": "code",
   "execution_count": 2,
   "metadata": {},
   "outputs": [],
   "source": [
    "import pandas as pd"
   ]
  },
  {
   "cell_type": "code",
   "execution_count": 3,
   "metadata": {},
   "outputs": [
    {
     "data": {
      "text/plain": [
       "<pandas.io.excel._base.ExcelFile at 0x2c53f37a9a0>"
      ]
     },
     "execution_count": 3,
     "metadata": {},
     "output_type": "execute_result"
    }
   ],
   "source": [
    "xls = pd.ExcelFile('./../../data/input/Carbon_B1262BW0377022_07.2022_Risk bdx.xlsx')\n",
    "xls"
   ]
  },
  {
   "cell_type": "code",
   "execution_count": 23,
   "metadata": {},
   "outputs": [],
   "source": [
    "dataframe = xls.parse('coc').tail()"
   ]
  },
  {
   "cell_type": "code",
   "execution_count": 28,
   "metadata": {},
   "outputs": [],
   "source": [
    "for col in dataframe:\n",
    "    element = str(dataframe[col][dataframe.index[-1]])\n",
    "    if element:\n",
    "        if element.lower() == 'total':\n",
    "            dataframe.drop(dataframe.tail(1).index,inplace=True)"
   ]
  },
  {
   "cell_type": "code",
   "execution_count": 29,
   "metadata": {},
   "outputs": [
    {
     "data": {
      "text/html": [
       "<div>\n",
       "<style scoped>\n",
       "    .dataframe tbody tr th:only-of-type {\n",
       "        vertical-align: middle;\n",
       "    }\n",
       "\n",
       "    .dataframe tbody tr th {\n",
       "        vertical-align: top;\n",
       "    }\n",
       "\n",
       "    .dataframe thead th {\n",
       "        text-align: right;\n",
       "    }\n",
       "</style>\n",
       "<table border=\"1\" class=\"dataframe\">\n",
       "  <thead>\n",
       "    <tr style=\"text-align: right;\">\n",
       "      <th></th>\n",
       "      <th>UMR</th>\n",
       "      <th>YOU</th>\n",
       "      <th>New or Renewal</th>\n",
       "      <th>Policy Number</th>\n",
       "      <th>Name of Insured</th>\n",
       "      <th>Location Number</th>\n",
       "      <th>Inception Date</th>\n",
       "      <th>Expiry Date</th>\n",
       "      <th>Building or House Number</th>\n",
       "      <th>Street</th>\n",
       "      <th>...</th>\n",
       "      <th>Deductible (Amount)</th>\n",
       "      <th>Limit</th>\n",
       "      <th>Premium</th>\n",
       "      <th>Total Policy Gross Premium</th>\n",
       "      <th>Insurer Total Gross Premium</th>\n",
       "      <th>Coverholder Commission Percentage</th>\n",
       "      <th>Coverholder Commission Amount</th>\n",
       "      <th>Net Premium to Carbon</th>\n",
       "      <th>Name</th>\n",
       "      <th>Notes</th>\n",
       "    </tr>\n",
       "  </thead>\n",
       "  <tbody>\n",
       "    <tr>\n",
       "      <th>4</th>\n",
       "      <td>B1262BW0377022</td>\n",
       "      <td>2022.0</td>\n",
       "      <td>New Policy</td>\n",
       "      <td>CHES2022071727</td>\n",
       "      <td>The Vansickle Project Inc</td>\n",
       "      <td>1.0</td>\n",
       "      <td>2022-07-23</td>\n",
       "      <td>2023-07-23</td>\n",
       "      <td>1076</td>\n",
       "      <td>Vansickle Road North</td>\n",
       "      <td>...</td>\n",
       "      <td>25000.0</td>\n",
       "      <td>4679300.0</td>\n",
       "      <td>0.0</td>\n",
       "      <td>33388.0</td>\n",
       "      <td>17944.00</td>\n",
       "      <td>21.75</td>\n",
       "      <td>3902.82000</td>\n",
       "      <td>14041.18000</td>\n",
       "      <td>NaN</td>\n",
       "      <td>NaN</td>\n",
       "    </tr>\n",
       "    <tr>\n",
       "      <th>5</th>\n",
       "      <td>B1262BW0377022</td>\n",
       "      <td>2022.0</td>\n",
       "      <td>Endr#2</td>\n",
       "      <td>CHES2022071727</td>\n",
       "      <td>The Vansickle Project Inc</td>\n",
       "      <td>1.0</td>\n",
       "      <td>2022-07-23</td>\n",
       "      <td>2023-07-23</td>\n",
       "      <td>1076</td>\n",
       "      <td>Vansickle Road North</td>\n",
       "      <td>...</td>\n",
       "      <td>25000.0</td>\n",
       "      <td>4679300.0</td>\n",
       "      <td>0.0</td>\n",
       "      <td>1544.0</td>\n",
       "      <td>772.00</td>\n",
       "      <td>21.75</td>\n",
       "      <td>167.91000</td>\n",
       "      <td>604.09000</td>\n",
       "      <td>NaN</td>\n",
       "      <td>NaN</td>\n",
       "    </tr>\n",
       "    <tr>\n",
       "      <th>6</th>\n",
       "      <td>B1262BW0377022</td>\n",
       "      <td>2022.0</td>\n",
       "      <td>New Policy</td>\n",
       "      <td>CHES2022063539</td>\n",
       "      <td>Ben-Zion Dubinsky and Aviva Dubinsky</td>\n",
       "      <td>1.0</td>\n",
       "      <td>2022-07-25</td>\n",
       "      <td>2023-04-25</td>\n",
       "      <td>36</td>\n",
       "      <td>Lynnhaven Road</td>\n",
       "      <td>...</td>\n",
       "      <td>25000.0</td>\n",
       "      <td>1497000.0</td>\n",
       "      <td>0.0</td>\n",
       "      <td>6411.0</td>\n",
       "      <td>2674.74</td>\n",
       "      <td>21.75</td>\n",
       "      <td>581.75595</td>\n",
       "      <td>2092.98405</td>\n",
       "      <td>NaN</td>\n",
       "      <td>NaN</td>\n",
       "    </tr>\n",
       "    <tr>\n",
       "      <th>7</th>\n",
       "      <td>B1262BW0377022</td>\n",
       "      <td>2022.0</td>\n",
       "      <td>New Policy</td>\n",
       "      <td>COP02161</td>\n",
       "      <td>340 Shakespeare Inc.</td>\n",
       "      <td>1.0</td>\n",
       "      <td>2022-06-30</td>\n",
       "      <td>2023-06-30</td>\n",
       "      <td>340 &amp; 342</td>\n",
       "      <td>Shakespeare St.</td>\n",
       "      <td>...</td>\n",
       "      <td>250000.0</td>\n",
       "      <td>3260000.0</td>\n",
       "      <td>0.0</td>\n",
       "      <td>18416.0</td>\n",
       "      <td>7846.40</td>\n",
       "      <td>21.75</td>\n",
       "      <td>1706.59200</td>\n",
       "      <td>6139.80800</td>\n",
       "      <td>NaN</td>\n",
       "      <td>NaN</td>\n",
       "    </tr>\n",
       "  </tbody>\n",
       "</table>\n",
       "<p>4 rows × 105 columns</p>\n",
       "</div>"
      ],
      "text/plain": [
       "              UMR     YOU New or Renewal   Policy Number  \\\n",
       "4  B1262BW0377022  2022.0     New Policy  CHES2022071727   \n",
       "5  B1262BW0377022  2022.0         Endr#2  CHES2022071727   \n",
       "6  B1262BW0377022  2022.0     New Policy  CHES2022063539   \n",
       "7  B1262BW0377022  2022.0     New Policy        COP02161   \n",
       "\n",
       "                        Name of Insured  Location Number Inception Date  \\\n",
       "4             The Vansickle Project Inc              1.0     2022-07-23   \n",
       "5             The Vansickle Project Inc              1.0     2022-07-23   \n",
       "6  Ben-Zion Dubinsky and Aviva Dubinsky              1.0     2022-07-25   \n",
       "7                  340 Shakespeare Inc.              1.0     2022-06-30   \n",
       "\n",
       "  Expiry Date Building or House Number                Street  ...  \\\n",
       "4  2023-07-23                     1076  Vansickle Road North  ...   \n",
       "5  2023-07-23                     1076  Vansickle Road North  ...   \n",
       "6  2023-04-25                       36        Lynnhaven Road  ...   \n",
       "7  2023-06-30                340 & 342       Shakespeare St.  ...   \n",
       "\n",
       "  Deductible (Amount)      Limit Premium Total Policy Gross Premium  \\\n",
       "4             25000.0  4679300.0     0.0                    33388.0   \n",
       "5             25000.0  4679300.0     0.0                     1544.0   \n",
       "6             25000.0  1497000.0     0.0                     6411.0   \n",
       "7            250000.0  3260000.0     0.0                    18416.0   \n",
       "\n",
       "   Insurer Total Gross Premium  Coverholder Commission Percentage  \\\n",
       "4                     17944.00                              21.75   \n",
       "5                       772.00                              21.75   \n",
       "6                      2674.74                              21.75   \n",
       "7                      7846.40                              21.75   \n",
       "\n",
       "   Coverholder Commission Amount  Net Premium to Carbon  Name  Notes  \n",
       "4                     3902.82000            14041.18000   NaN    NaN  \n",
       "5                      167.91000              604.09000   NaN    NaN  \n",
       "6                      581.75595             2092.98405   NaN    NaN  \n",
       "7                     1706.59200             6139.80800   NaN    NaN  \n",
       "\n",
       "[4 rows x 105 columns]"
      ]
     },
     "execution_count": 29,
     "metadata": {},
     "output_type": "execute_result"
    }
   ],
   "source": [
    "dataframe.tail()"
   ]
  },
  {
   "cell_type": "code",
   "execution_count": 5,
   "metadata": {},
   "outputs": [],
   "source": [
    "import yaml"
   ]
  },
  {
   "cell_type": "markdown",
   "metadata": {},
   "source": [
    "## Num to Excel"
   ]
  },
  {
   "cell_type": "code",
   "execution_count": 34,
   "metadata": {},
   "outputs": [
    {
     "name": "stdout",
     "output_type": "stream",
     "text": [
      "AX\n"
     ]
    }
   ],
   "source": [
    "column_int = 50\n",
    "\n",
    "start_index = 1   #  it can start either at 0 or at 1\n",
    "letter = ''\n",
    "while column_int > 25 + start_index:   \n",
    "    letter += chr(65 + int((column_int-start_index)/26) - 1)\n",
    "    column_int = column_int - (int((column_int-start_index)/26))*26\n",
    "letter += chr(65 - start_index + (int(column_int)))\n",
    "\n",
    "print(letter)"
   ]
  },
  {
   "cell_type": "markdown",
   "metadata": {},
   "source": [
    "## Excel to Num"
   ]
  },
  {
   "cell_type": "code",
   "execution_count": 38,
   "metadata": {},
   "outputs": [
    {
     "name": "stdout",
     "output_type": "stream",
     "text": [
      "3\n"
     ]
    }
   ],
   "source": [
    "import string\n",
    "\n",
    "col='C'\n",
    "\n",
    "num = 0\n",
    "for c in col:\n",
    "    if c in string.ascii_letters:\n",
    "        num = num * 26 + (ord(c.upper()) - ord('A')) + 1\n",
    "print(num)"
   ]
  },
  {
   "cell_type": "code",
   "execution_count": 6,
   "metadata": {},
   "outputs": [
    {
     "data": {
      "text/plain": [
       "{'sheets': [{'sheet_name': 'coc',\n",
       "   'output_workbooks': [{'workbook_name': 'Property',\n",
       "     'new_columns': [{'column_name': 'Property Premium 100%',\n",
       "       'value_definition': 'X*W'}],\n",
       "     'remove_all_formatting': True,\n",
       "     'remove_totals_row': True},\n",
       "    {'workbook_name': 'Liability',\n",
       "     'remove_all_formatting': True,\n",
       "     'remove_totals_row': True}]},\n",
       "  {'sheet_name': 'cc',\n",
       "   'output_workbooks': [{'workbook_name': 'Property',\n",
       "     'new_columns': [{'column_name': 'Property Premium 100%',\n",
       "       'value_definition': 'X*W'}],\n",
       "     'remove_all_formatting': True,\n",
       "     'remove_totals_row': True},\n",
       "    {'workbook_name': 'Liability',\n",
       "     'remove_all_formatting': True,\n",
       "     'remove_totals_row': True}]},\n",
       "  {'sheet_name': 'cc',\n",
       "   'remove_all_formatting': True,\n",
       "   'remove_totals_row': True}],\n",
       " 'remove_all_formatting': False,\n",
       " 'remove_totals_row': False}"
      ]
     },
     "execution_count": 6,
     "metadata": {},
     "output_type": "execute_result"
    }
   ],
   "source": [
    "with open(\"./../../config.yaml\", \"r\") as stream:\n",
    "    dictio = yaml.safe_load(stream)\n",
    "    \n",
    "dictio"
   ]
  }
 ],
 "metadata": {
  "kernelspec": {
   "display_name": "Python 3.9.13 ('venv': venv)",
   "language": "python",
   "name": "python3"
  },
  "language_info": {
   "codemirror_mode": {
    "name": "ipython",
    "version": 3
   },
   "file_extension": ".py",
   "mimetype": "text/x-python",
   "name": "python",
   "nbconvert_exporter": "python",
   "pygments_lexer": "ipython3",
   "version": "3.9.13"
  },
  "orig_nbformat": 4,
  "vscode": {
   "interpreter": {
    "hash": "d0f45f3e13c7b6b231149a49a83c32f7df52a9503d061e29285d5ec0128aaf8e"
   }
  }
 },
 "nbformat": 4,
 "nbformat_minor": 2
}
