{
 "cells": [
  {
   "cell_type": "code",
   "execution_count": 1,
   "metadata": {},
   "outputs": [
    {
     "name": "stdout",
     "output_type": "stream",
     "text": [
      "Requirement already satisfied: pandas in c:\\local\\technology\\coding\\projects\\carbon underwriting\\insurance-data-processing\\venv\\lib\\site-packages (from -r ./../../requirements.txt (line 1)) (1.4.4)\n",
      "Requirement already satisfied: openpyxl in c:\\local\\technology\\coding\\projects\\carbon underwriting\\insurance-data-processing\\venv\\lib\\site-packages (from -r ./../../requirements.txt (line 2)) (3.0.10)\n"
     ]
    },
    {
     "name": "stderr",
     "output_type": "stream",
     "text": [
      "ERROR: Could not find a version that satisfies the requirement yaml (from versions: none)\n",
      "ERROR: No matching distribution found for yaml\n",
      "WARNING: You are using pip version 22.0.4; however, version 22.2.2 is available.\n",
      "You should consider upgrading via the 'C:\\local\\Technology\\Coding\\Projects\\Carbon Underwriting\\insurance-data-processing\\venv\\Scripts\\python.exe -m pip install --upgrade pip' command.\n"
     ]
    }
   ],
   "source": [
    "! pip3 install -r ./../../requirements.txt"
   ]
  },
  {
   "cell_type": "code",
   "execution_count": 7,
   "metadata": {},
   "outputs": [],
   "source": [
    "import pandas as pd"
   ]
  },
  {
   "cell_type": "code",
   "execution_count": 30,
   "metadata": {},
   "outputs": [
    {
     "data": {
      "text/plain": [
       "<pandas.io.excel._base.ExcelFile at 0x1c97c1ef610>"
      ]
     },
     "execution_count": 30,
     "metadata": {},
     "output_type": "execute_result"
    }
   ],
   "source": [
    "xls = pd.ExcelFile('./../../data/input/Carbon_B1262BW0377022_07.2022_Risk bdx.xlsx')\n",
    "xls"
   ]
  },
  {
   "cell_type": "code",
   "execution_count": 31,
   "metadata": {},
   "outputs": [
    {
     "data": {
      "text/html": [
       "<div>\n",
       "<style scoped>\n",
       "    .dataframe tbody tr th:only-of-type {\n",
       "        vertical-align: middle;\n",
       "    }\n",
       "\n",
       "    .dataframe tbody tr th {\n",
       "        vertical-align: top;\n",
       "    }\n",
       "\n",
       "    .dataframe thead th {\n",
       "        text-align: right;\n",
       "    }\n",
       "</style>\n",
       "<table border=\"1\" class=\"dataframe\">\n",
       "  <thead>\n",
       "    <tr style=\"text-align: right;\">\n",
       "      <th></th>\n",
       "      <th>UMR</th>\n",
       "      <th>YOU</th>\n",
       "      <th>New or Renewal</th>\n",
       "      <th>Policy Number</th>\n",
       "      <th>Name of Insured</th>\n",
       "      <th>Location Number</th>\n",
       "      <th>Inception Date</th>\n",
       "      <th>Expiry Date</th>\n",
       "      <th>Building or House Number</th>\n",
       "      <th>Street</th>\n",
       "      <th>...</th>\n",
       "      <th>Deductible (Amount)</th>\n",
       "      <th>Limit</th>\n",
       "      <th>Premium</th>\n",
       "      <th>Total Policy Gross Premium</th>\n",
       "      <th>Insurer Total Gross Premium</th>\n",
       "      <th>Coverholder Commission Percentage</th>\n",
       "      <th>Coverholder Commission Amount</th>\n",
       "      <th>Net Premium to Carbon</th>\n",
       "      <th>Name</th>\n",
       "      <th>Notes</th>\n",
       "    </tr>\n",
       "  </thead>\n",
       "  <tbody>\n",
       "    <tr>\n",
       "      <th>4</th>\n",
       "      <td>B1262BW0377022</td>\n",
       "      <td>2022.0</td>\n",
       "      <td>New Policy</td>\n",
       "      <td>CHES2022071727</td>\n",
       "      <td>The Vansickle Project Inc</td>\n",
       "      <td>1.0</td>\n",
       "      <td>2022-07-23</td>\n",
       "      <td>2023-07-23</td>\n",
       "      <td>1076</td>\n",
       "      <td>Vansickle Road North</td>\n",
       "      <td>...</td>\n",
       "      <td>25000.0</td>\n",
       "      <td>4679300.0</td>\n",
       "      <td>0.0</td>\n",
       "      <td>33388.0</td>\n",
       "      <td>17944.00</td>\n",
       "      <td>21.75</td>\n",
       "      <td>3902.82000</td>\n",
       "      <td>14041.18000</td>\n",
       "      <td>NaN</td>\n",
       "      <td>NaN</td>\n",
       "    </tr>\n",
       "    <tr>\n",
       "      <th>5</th>\n",
       "      <td>B1262BW0377022</td>\n",
       "      <td>2022.0</td>\n",
       "      <td>Endr#2</td>\n",
       "      <td>CHES2022071727</td>\n",
       "      <td>The Vansickle Project Inc</td>\n",
       "      <td>1.0</td>\n",
       "      <td>2022-07-23</td>\n",
       "      <td>2023-07-23</td>\n",
       "      <td>1076</td>\n",
       "      <td>Vansickle Road North</td>\n",
       "      <td>...</td>\n",
       "      <td>25000.0</td>\n",
       "      <td>4679300.0</td>\n",
       "      <td>0.0</td>\n",
       "      <td>1544.0</td>\n",
       "      <td>772.00</td>\n",
       "      <td>21.75</td>\n",
       "      <td>167.91000</td>\n",
       "      <td>604.09000</td>\n",
       "      <td>NaN</td>\n",
       "      <td>NaN</td>\n",
       "    </tr>\n",
       "    <tr>\n",
       "      <th>6</th>\n",
       "      <td>B1262BW0377022</td>\n",
       "      <td>2022.0</td>\n",
       "      <td>New Policy</td>\n",
       "      <td>CHES2022063539</td>\n",
       "      <td>Ben-Zion Dubinsky and Aviva Dubinsky</td>\n",
       "      <td>1.0</td>\n",
       "      <td>2022-07-25</td>\n",
       "      <td>2023-04-25</td>\n",
       "      <td>36</td>\n",
       "      <td>Lynnhaven Road</td>\n",
       "      <td>...</td>\n",
       "      <td>25000.0</td>\n",
       "      <td>1497000.0</td>\n",
       "      <td>0.0</td>\n",
       "      <td>6411.0</td>\n",
       "      <td>2674.74</td>\n",
       "      <td>21.75</td>\n",
       "      <td>581.75595</td>\n",
       "      <td>2092.98405</td>\n",
       "      <td>NaN</td>\n",
       "      <td>NaN</td>\n",
       "    </tr>\n",
       "    <tr>\n",
       "      <th>7</th>\n",
       "      <td>B1262BW0377022</td>\n",
       "      <td>2022.0</td>\n",
       "      <td>New Policy</td>\n",
       "      <td>COP02161</td>\n",
       "      <td>340 Shakespeare Inc.</td>\n",
       "      <td>1.0</td>\n",
       "      <td>2022-06-30</td>\n",
       "      <td>2023-06-30</td>\n",
       "      <td>340 &amp; 342</td>\n",
       "      <td>Shakespeare St.</td>\n",
       "      <td>...</td>\n",
       "      <td>250000.0</td>\n",
       "      <td>3260000.0</td>\n",
       "      <td>0.0</td>\n",
       "      <td>18416.0</td>\n",
       "      <td>7846.40</td>\n",
       "      <td>21.75</td>\n",
       "      <td>1706.59200</td>\n",
       "      <td>6139.80800</td>\n",
       "      <td>NaN</td>\n",
       "      <td>NaN</td>\n",
       "    </tr>\n",
       "    <tr>\n",
       "      <th>8</th>\n",
       "      <td>NaN</td>\n",
       "      <td>NaN</td>\n",
       "      <td>Total</td>\n",
       "      <td>NaN</td>\n",
       "      <td>NaN</td>\n",
       "      <td>NaN</td>\n",
       "      <td>NaT</td>\n",
       "      <td>NaT</td>\n",
       "      <td>NaN</td>\n",
       "      <td>NaN</td>\n",
       "      <td>...</td>\n",
       "      <td>NaN</td>\n",
       "      <td>NaN</td>\n",
       "      <td>NaN</td>\n",
       "      <td>NaN</td>\n",
       "      <td>43711.74</td>\n",
       "      <td>NaN</td>\n",
       "      <td>NaN</td>\n",
       "      <td>34204.43655</td>\n",
       "      <td>NaN</td>\n",
       "      <td>0.0</td>\n",
       "    </tr>\n",
       "  </tbody>\n",
       "</table>\n",
       "<p>5 rows × 105 columns</p>\n",
       "</div>"
      ],
      "text/plain": [
       "              UMR     YOU New or Renewal   Policy Number  \\\n",
       "4  B1262BW0377022  2022.0     New Policy  CHES2022071727   \n",
       "5  B1262BW0377022  2022.0         Endr#2  CHES2022071727   \n",
       "6  B1262BW0377022  2022.0     New Policy  CHES2022063539   \n",
       "7  B1262BW0377022  2022.0     New Policy        COP02161   \n",
       "8             NaN     NaN          Total             NaN   \n",
       "\n",
       "                        Name of Insured  Location Number Inception Date  \\\n",
       "4             The Vansickle Project Inc              1.0     2022-07-23   \n",
       "5             The Vansickle Project Inc              1.0     2022-07-23   \n",
       "6  Ben-Zion Dubinsky and Aviva Dubinsky              1.0     2022-07-25   \n",
       "7                  340 Shakespeare Inc.              1.0     2022-06-30   \n",
       "8                                   NaN              NaN            NaT   \n",
       "\n",
       "  Expiry Date Building or House Number                Street  ...  \\\n",
       "4  2023-07-23                     1076  Vansickle Road North  ...   \n",
       "5  2023-07-23                     1076  Vansickle Road North  ...   \n",
       "6  2023-04-25                       36        Lynnhaven Road  ...   \n",
       "7  2023-06-30                340 & 342       Shakespeare St.  ...   \n",
       "8         NaT                      NaN                   NaN  ...   \n",
       "\n",
       "  Deductible (Amount)      Limit Premium Total Policy Gross Premium  \\\n",
       "4             25000.0  4679300.0     0.0                    33388.0   \n",
       "5             25000.0  4679300.0     0.0                     1544.0   \n",
       "6             25000.0  1497000.0     0.0                     6411.0   \n",
       "7            250000.0  3260000.0     0.0                    18416.0   \n",
       "8                 NaN        NaN     NaN                        NaN   \n",
       "\n",
       "   Insurer Total Gross Premium  Coverholder Commission Percentage  \\\n",
       "4                     17944.00                              21.75   \n",
       "5                       772.00                              21.75   \n",
       "6                      2674.74                              21.75   \n",
       "7                      7846.40                              21.75   \n",
       "8                     43711.74                                NaN   \n",
       "\n",
       "   Coverholder Commission Amount  Net Premium to Carbon  Name  Notes  \n",
       "4                     3902.82000            14041.18000   NaN    NaN  \n",
       "5                      167.91000              604.09000   NaN    NaN  \n",
       "6                      581.75595             2092.98405   NaN    NaN  \n",
       "7                     1706.59200             6139.80800   NaN    NaN  \n",
       "8                            NaN            34204.43655   NaN    0.0  \n",
       "\n",
       "[5 rows x 105 columns]"
      ]
     },
     "execution_count": 31,
     "metadata": {},
     "output_type": "execute_result"
    }
   ],
   "source": [
    "xls.parse('coc').tail()"
   ]
  },
  {
   "cell_type": "code",
   "execution_count": 2,
   "metadata": {},
   "outputs": [],
   "source": [
    "import yaml"
   ]
  },
  {
   "cell_type": "code",
   "execution_count": 5,
   "metadata": {},
   "outputs": [
    {
     "data": {
      "text/plain": [
       "{'sheets': [{'coc': {'workbook_generation': [{'workbook_name': 'Property',\n",
       "      'new_columns': [{'name': 'Property Premium 100%', 'value': 'X*W'},\n",
       "       {'name': 'Test', 'value': 'X*Y'}],\n",
       "      'remove_all_formatting': True,\n",
       "      'remove_totals_row': True},\n",
       "     {'workbook_name': 'Liability',\n",
       "      'remove_all_formatting': True,\n",
       "      'remove_totals_row': True}]}},\n",
       "  {'cc': {'workbook_generation': [{'workbook_name': 'Property',\n",
       "      'new_columns': [{'name': 'Property Premium 100%', 'value': 'X*W'}],\n",
       "      'remove_all_formatting': True,\n",
       "      'remove_totals_row': True},\n",
       "     {'workbook_name': 'Liability',\n",
       "      'remove_all_formatting': True,\n",
       "      'remove_totals_row': True}]}},\n",
       "  {'cgl': {'remove_all_formatting': True, 'remove_totals_row': True}}],\n",
       " 'remove_all_formatting': False,\n",
       " 'remove_totals_row': False}"
      ]
     },
     "execution_count": 5,
     "metadata": {},
     "output_type": "execute_result"
    }
   ],
   "source": [
    "with open(\"./../../config.yaml\", \"r\") as stream:\n",
    "    dictio = yaml.safe_load(stream)\n",
    "    \n",
    "dictio"
   ]
  }
 ],
 "metadata": {
  "kernelspec": {
   "display_name": "Python 3.9.13 ('venv': venv)",
   "language": "python",
   "name": "python3"
  },
  "language_info": {
   "codemirror_mode": {
    "name": "ipython",
    "version": 3
   },
   "file_extension": ".py",
   "mimetype": "text/x-python",
   "name": "python",
   "nbconvert_exporter": "python",
   "pygments_lexer": "ipython3",
   "version": "3.9.13"
  },
  "orig_nbformat": 4,
  "vscode": {
   "interpreter": {
    "hash": "d0f45f3e13c7b6b231149a49a83c32f7df52a9503d061e29285d5ec0128aaf8e"
   }
  }
 },
 "nbformat": 4,
 "nbformat_minor": 2
}
